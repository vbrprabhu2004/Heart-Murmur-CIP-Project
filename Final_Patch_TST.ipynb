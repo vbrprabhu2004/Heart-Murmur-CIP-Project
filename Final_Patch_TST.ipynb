{
  "nbformat": 4,
  "nbformat_minor": 0,
  "metadata": {
    "colab": {
      "provenance": [],
      "gpuType": "T4"
    },
    "kernelspec": {
      "name": "python3",
      "display_name": "Python 3"
    },
    "language_info": {
      "name": "python"
    },
    "accelerator": "GPU"
  },
  "cells": [
    {
      "cell_type": "code",
      "execution_count": null,
      "metadata": {
        "colab": {
          "base_uri": "https://localhost:8080/"
        },
        "id": "Rw8-nY4ZpBwY",
        "outputId": "b2ce9df0-743c-4d83-902c-7a03255ce467"
      },
      "outputs": [
        {
          "output_type": "stream",
          "name": "stdout",
          "text": [
            "Mounted at /content/drive\n"
          ]
        }
      ],
      "source": [
        "import pandas as pd\n",
        "import os\n",
        "from google.colab import drive\n",
        "drive.mount('/content/drive')"
      ]
    },
    {
      "cell_type": "code",
      "source": [
        "!pip install torchinfo"
      ],
      "metadata": {
        "colab": {
          "base_uri": "https://localhost:8080/"
        },
        "id": "7ImgBoyypsZb",
        "outputId": "287cef65-b548-4bc7-8bd1-ffe72b309f51"
      },
      "execution_count": null,
      "outputs": [
        {
          "output_type": "stream",
          "name": "stdout",
          "text": [
            "Collecting torchinfo\n",
            "  Downloading torchinfo-1.8.0-py3-none-any.whl.metadata (21 kB)\n",
            "Downloading torchinfo-1.8.0-py3-none-any.whl (23 kB)\n",
            "Installing collected packages: torchinfo\n",
            "Successfully installed torchinfo-1.8.0\n"
          ]
        }
      ]
    },
    {
      "cell_type": "code",
      "source": [
        "import os\n",
        "import torch\n",
        "import numpy as np\n",
        "import pandas as pd\n",
        "import torch.nn as nn\n",
        "import torch.optim as optim\n",
        "import seaborn as sns\n",
        "import matplotlib.pyplot as plt\n",
        "from torch.utils.data import DataLoader, TensorDataset\n",
        "from transformers import PatchTSTConfig, PatchTSTForClassification\n",
        "from sklearn.preprocessing import StandardScaler\n",
        "from sklearn.model_selection import train_test_split\n",
        "from sklearn.metrics import accuracy_score, confusion_matrix, classification_report\n",
        "from torchinfo import summary"
      ],
      "metadata": {
        "id": "MiSJL-0ypDjD"
      },
      "execution_count": null,
      "outputs": []
    },
    {
      "cell_type": "code",
      "source": [
        "data_folder = \"/content/drive/My Drive/Normalized3/Final/\"\n",
        "data_list, labels_list = [], []\n",
        "# Load dataset\n",
        "for file_name in os.listdir(data_folder):\n",
        "    if file_name.endswith(\".csv\"):\n",
        "        file_path = os.path.join(data_folder, file_name)\n",
        "        df = pd.read_csv(file_path, header=0)\n",
        "        df = df.select_dtypes(include=[np.number])  # Drop non-numeric columns\n",
        "        if df.shape != (92, 52):\n",
        "            print(f\"Skipping {file_name} due to incorrect shape: {df.shape}\")\n",
        "            continue\n",
        "        data_list.append(df.values[:91])  # Take only the first 91 rows\n",
        "        label = int(file_name.split(\"_\")[-1].split(\".\")[0])  # Extract label\n",
        "        labels_list.append(label)\n",
        "\n",
        "# Convert to NumPy arrays\n",
        "X = np.array(data_list)  # Shape: (num_samples, 92, 52)\n",
        "y = np.array(labels_list)  # Shape: (num_samples,)\n",
        "\n",
        "# Standardize features\n",
        "scaler = StandardScaler()\n",
        "X = scaler.fit_transform(X.reshape(-1, 52)).reshape(len(data_list), 91, 52)\n",
        "\n",
        "# Split into train/test (80-20)\n",
        "X_train, X_test, y_train, y_test = train_test_split(\n",
        "    X, y, test_size=0.2, random_state=42, stratify=y\n",
        ")\n",
        "# Convert to PyTorch tensors\n",
        "X_train, X_test = map(\n",
        "    lambda x: torch.tensor(x, dtype=torch.float32), [X_train, X_test]\n",
        ")\n",
        "y_train, y_test = map(lambda y: torch.tensor(y, dtype=torch.long), [y_train, y_test])\n",
        "# Move to device\n",
        "device = torch.device(\"cuda\" if torch.cuda.is_available() else \"cpu\")\n",
        "X_train, X_test, y_train, y_test = (\n",
        "    X_train.to(device),\n",
        "    X_test.to(device),\n",
        "    y_train.to(device),\n",
        "    y_test.to(device),\n",
        ")\n"
      ],
      "metadata": {
        "id": "e5u4k0p7pigS"
      },
      "execution_count": null,
      "outputs": []
    },
    {
      "cell_type": "code",
      "source": [
        "config = PatchTSTConfig(\n",
        "    num_input_channels=52,  # Features per timestep\n",
        "    num_targets=2,  # Binary classification\n",
        "    context_length=91,  # Sequence length\n",
        "    patch_length=12,\n",
        "    stride=12,\n",
        "     dropout=0.5,\n",
        "    use_cls_token=True,\n",
        ")\n",
        "\n",
        "# Initialize PatchTST model\n",
        "model = PatchTSTForClassification(config=config).to(device)"
      ],
      "metadata": {
        "id": "YHvK36mupzbJ"
      },
      "execution_count": null,
      "outputs": []
    },
    {
      "cell_type": "code",
      "source": [
        "batch_size = 16\n",
        "train_loader = DataLoader(\n",
        "    TensorDataset(X_train, y_train), batch_size=batch_size, shuffle=True\n",
        ")\n",
        "\n",
        "criterion = nn.CrossEntropyLoss()\n",
        "optimizer = optim.Adam(model.parameters(), lr=1e-4, weight_decay=1e-3)  # Increase weight decay\n",
        "\n",
        "\n",
        "# Training Loop\n",
        "epochs = 200\n",
        "losses = []\n",
        "for epoch in range(epochs):\n",
        "    model.train()\n",
        "    total_loss = 0\n",
        "    for X_batch, y_batch in train_loader:\n",
        "        optimizer.zero_grad()\n",
        "        outputs = model(past_values=X_batch).prediction_logits\n",
        "        loss = criterion(outputs, y_batch)\n",
        "        loss.backward()\n",
        "        optimizer.step()\n",
        "        total_loss += loss.item()\n",
        "\n",
        "    avg_loss = total_loss / len(train_loader)\n",
        "    losses.append(avg_loss)\n",
        "    print(f\"Epoch {epoch+1}/{epochs}, Loss: {avg_loss:.4f}\")\n",
        "\n"
      ],
      "metadata": {
        "colab": {
          "base_uri": "https://localhost:8080/"
        },
        "id": "cp0MzKzFp13P",
        "outputId": "10775276-2dbd-41ce-e9b1-7155bd2eb3ef"
      },
      "execution_count": null,
      "outputs": [
        {
          "output_type": "stream",
          "name": "stdout",
          "text": [
            "Epoch 1/200, Loss: 0.6963\n",
            "Epoch 2/200, Loss: 0.7048\n",
            "Epoch 3/200, Loss: 0.6819\n",
            "Epoch 4/200, Loss: 0.6692\n",
            "Epoch 5/200, Loss: 0.6455\n",
            "Epoch 6/200, Loss: 0.6287\n",
            "Epoch 7/200, Loss: 0.5868\n",
            "Epoch 8/200, Loss: 0.6101\n",
            "Epoch 9/200, Loss: 0.5352\n",
            "Epoch 10/200, Loss: 0.5304\n",
            "Epoch 11/200, Loss: 0.4756\n",
            "Epoch 12/200, Loss: 0.4397\n",
            "Epoch 13/200, Loss: 0.5004\n",
            "Epoch 14/200, Loss: 0.4746\n",
            "Epoch 15/200, Loss: 0.3838\n",
            "Epoch 16/200, Loss: 0.3609\n",
            "Epoch 17/200, Loss: 0.3117\n",
            "Epoch 18/200, Loss: 0.3276\n",
            "Epoch 19/200, Loss: 0.3024\n",
            "Epoch 20/200, Loss: 0.3011\n",
            "Epoch 21/200, Loss: 0.2138\n",
            "Epoch 22/200, Loss: 0.1960\n",
            "Epoch 23/200, Loss: 0.1557\n",
            "Epoch 24/200, Loss: 0.1051\n",
            "Epoch 25/200, Loss: 0.0886\n",
            "Epoch 26/200, Loss: 0.0543\n",
            "Epoch 27/200, Loss: 0.0527\n",
            "Epoch 28/200, Loss: 0.0566\n",
            "Epoch 29/200, Loss: 0.0341\n",
            "Epoch 30/200, Loss: 0.0261\n",
            "Epoch 31/200, Loss: 0.0161\n",
            "Epoch 32/200, Loss: 0.0118\n",
            "Epoch 33/200, Loss: 0.0087\n",
            "Epoch 34/200, Loss: 0.0079\n",
            "Epoch 35/200, Loss: 0.0059\n",
            "Epoch 36/200, Loss: 0.0046\n",
            "Epoch 37/200, Loss: 0.0045\n",
            "Epoch 38/200, Loss: 0.0042\n",
            "Epoch 39/200, Loss: 0.0037\n",
            "Epoch 40/200, Loss: 0.0028\n",
            "Epoch 41/200, Loss: 0.0026\n",
            "Epoch 42/200, Loss: 0.0020\n",
            "Epoch 43/200, Loss: 0.0028\n",
            "Epoch 44/200, Loss: 0.0017\n",
            "Epoch 45/200, Loss: 0.0016\n",
            "Epoch 46/200, Loss: 0.0013\n",
            "Epoch 47/200, Loss: 0.0015\n",
            "Epoch 48/200, Loss: 0.0012\n",
            "Epoch 49/200, Loss: 0.0011\n",
            "Epoch 50/200, Loss: 0.0012\n",
            "Epoch 51/200, Loss: 0.0009\n",
            "Epoch 52/200, Loss: 0.0011\n",
            "Epoch 53/200, Loss: 0.0009\n",
            "Epoch 54/200, Loss: 0.0009\n",
            "Epoch 55/200, Loss: 0.0007\n",
            "Epoch 56/200, Loss: 0.0007\n",
            "Epoch 57/200, Loss: 0.0007\n",
            "Epoch 58/200, Loss: 0.0007\n",
            "Epoch 59/200, Loss: 0.0006\n",
            "Epoch 60/200, Loss: 0.0007\n",
            "Epoch 61/200, Loss: 0.0014\n",
            "Epoch 62/200, Loss: 0.0015\n",
            "Epoch 63/200, Loss: 0.0023\n",
            "Epoch 64/200, Loss: 0.0014\n",
            "Epoch 65/200, Loss: 0.0011\n",
            "Epoch 66/200, Loss: 0.0009\n",
            "Epoch 67/200, Loss: 0.0008\n",
            "Epoch 68/200, Loss: 0.0008\n",
            "Epoch 69/200, Loss: 0.0007\n",
            "Epoch 70/200, Loss: 0.0007\n",
            "Epoch 71/200, Loss: 0.0006\n",
            "Epoch 72/200, Loss: 0.0006\n",
            "Epoch 73/200, Loss: 0.0006\n",
            "Epoch 74/200, Loss: 0.0005\n",
            "Epoch 75/200, Loss: 0.0005\n",
            "Epoch 76/200, Loss: 0.0005\n",
            "Epoch 77/200, Loss: 0.0005\n",
            "Epoch 78/200, Loss: 0.0005\n",
            "Epoch 79/200, Loss: 0.0005\n",
            "Epoch 80/200, Loss: 0.0004\n",
            "Epoch 81/200, Loss: 0.0006\n",
            "Epoch 82/200, Loss: 0.0004\n",
            "Epoch 83/200, Loss: 0.0004\n",
            "Epoch 84/200, Loss: 0.0003\n",
            "Epoch 85/200, Loss: 0.0004\n",
            "Epoch 86/200, Loss: 0.0004\n",
            "Epoch 87/200, Loss: 0.0004\n",
            "Epoch 88/200, Loss: 0.0003\n",
            "Epoch 89/200, Loss: 0.0005\n",
            "Epoch 90/200, Loss: 0.0003\n",
            "Epoch 91/200, Loss: 0.0003\n",
            "Epoch 92/200, Loss: 0.0003\n",
            "Epoch 93/200, Loss: 0.0003\n",
            "Epoch 94/200, Loss: 0.0003\n",
            "Epoch 95/200, Loss: 0.0004\n",
            "Epoch 96/200, Loss: 0.0003\n",
            "Epoch 97/200, Loss: 0.0003\n",
            "Epoch 98/200, Loss: 0.0003\n",
            "Epoch 99/200, Loss: 0.0003\n",
            "Epoch 100/200, Loss: 0.0003\n",
            "Epoch 101/200, Loss: 0.0003\n",
            "Epoch 102/200, Loss: 0.0003\n",
            "Epoch 103/200, Loss: 0.0006\n",
            "Epoch 104/200, Loss: 0.0003\n",
            "Epoch 105/200, Loss: 0.0003\n",
            "Epoch 106/200, Loss: 0.0004\n",
            "Epoch 107/200, Loss: 0.0005\n",
            "Epoch 108/200, Loss: 0.0003\n",
            "Epoch 109/200, Loss: 0.0003\n",
            "Epoch 110/200, Loss: 0.0002\n",
            "Epoch 111/200, Loss: 0.0003\n",
            "Epoch 112/200, Loss: 0.0002\n",
            "Epoch 113/200, Loss: 0.0002\n",
            "Epoch 114/200, Loss: 0.0003\n",
            "Epoch 115/200, Loss: 0.0002\n",
            "Epoch 116/200, Loss: 0.0002\n",
            "Epoch 117/200, Loss: 0.0003\n",
            "Epoch 118/200, Loss: 0.0002\n",
            "Epoch 119/200, Loss: 0.0003\n",
            "Epoch 120/200, Loss: 0.0002\n",
            "Epoch 121/200, Loss: 0.0003\n",
            "Epoch 122/200, Loss: 0.0002\n",
            "Epoch 123/200, Loss: 0.0003\n",
            "Epoch 124/200, Loss: 0.0002\n",
            "Epoch 125/200, Loss: 0.0002\n",
            "Epoch 126/200, Loss: 0.0003\n",
            "Epoch 127/200, Loss: 0.0002\n",
            "Epoch 128/200, Loss: 0.0002\n",
            "Epoch 129/200, Loss: 0.0002\n",
            "Epoch 130/200, Loss: 0.0002\n",
            "Epoch 131/200, Loss: 0.0002\n",
            "Epoch 132/200, Loss: 0.0002\n",
            "Epoch 133/200, Loss: 0.0002\n",
            "Epoch 134/200, Loss: 0.0002\n",
            "Epoch 135/200, Loss: 0.0002\n",
            "Epoch 136/200, Loss: 0.0002\n",
            "Epoch 137/200, Loss: 0.0002\n",
            "Epoch 138/200, Loss: 0.0003\n",
            "Epoch 139/200, Loss: 0.0002\n",
            "Epoch 140/200, Loss: 0.0002\n",
            "Epoch 141/200, Loss: 0.0002\n",
            "Epoch 142/200, Loss: 0.0002\n",
            "Epoch 143/200, Loss: 0.0002\n",
            "Epoch 144/200, Loss: 0.0002\n",
            "Epoch 145/200, Loss: 0.0002\n",
            "Epoch 146/200, Loss: 0.0003\n",
            "Epoch 147/200, Loss: 0.0002\n",
            "Epoch 148/200, Loss: 0.0002\n",
            "Epoch 149/200, Loss: 0.0003\n",
            "Epoch 150/200, Loss: 0.0002\n",
            "Epoch 151/200, Loss: 0.0002\n",
            "Epoch 152/200, Loss: 0.0002\n",
            "Epoch 153/200, Loss: 0.0002\n",
            "Epoch 154/200, Loss: 0.0002\n",
            "Epoch 155/200, Loss: 0.0002\n",
            "Epoch 156/200, Loss: 0.0002\n",
            "Epoch 157/200, Loss: 0.0002\n",
            "Epoch 158/200, Loss: 0.0002\n",
            "Epoch 159/200, Loss: 0.0002\n",
            "Epoch 160/200, Loss: 0.0002\n",
            "Epoch 161/200, Loss: 0.0002\n",
            "Epoch 162/200, Loss: 0.0002\n",
            "Epoch 163/200, Loss: 0.0002\n",
            "Epoch 164/200, Loss: 0.0002\n",
            "Epoch 165/200, Loss: 0.0002\n",
            "Epoch 166/200, Loss: 0.0002\n",
            "Epoch 167/200, Loss: 0.0002\n",
            "Epoch 168/200, Loss: 0.0002\n",
            "Epoch 169/200, Loss: 0.0002\n",
            "Epoch 170/200, Loss: 0.0002\n",
            "Epoch 171/200, Loss: 0.0002\n",
            "Epoch 172/200, Loss: 0.0002\n",
            "Epoch 173/200, Loss: 0.0003\n",
            "Epoch 174/200, Loss: 0.0004\n",
            "Epoch 175/200, Loss: 0.0002\n",
            "Epoch 176/200, Loss: 0.0002\n",
            "Epoch 177/200, Loss: 0.0002\n",
            "Epoch 178/200, Loss: 0.0002\n",
            "Epoch 179/200, Loss: 0.0002\n",
            "Epoch 180/200, Loss: 0.0002\n",
            "Epoch 181/200, Loss: 0.0002\n",
            "Epoch 182/200, Loss: 0.0002\n",
            "Epoch 183/200, Loss: 0.0002\n",
            "Epoch 184/200, Loss: 0.0002\n",
            "Epoch 185/200, Loss: 0.0002\n",
            "Epoch 186/200, Loss: 0.0002\n",
            "Epoch 187/200, Loss: 0.0002\n",
            "Epoch 188/200, Loss: 0.0002\n",
            "Epoch 189/200, Loss: 0.0002\n",
            "Epoch 190/200, Loss: 0.0002\n",
            "Epoch 191/200, Loss: 0.0002\n",
            "Epoch 192/200, Loss: 0.0002\n",
            "Epoch 193/200, Loss: 0.0002\n",
            "Epoch 194/200, Loss: 0.0002\n",
            "Epoch 195/200, Loss: 0.0002\n",
            "Epoch 196/200, Loss: 0.0002\n",
            "Epoch 197/200, Loss: 0.0002\n",
            "Epoch 198/200, Loss: 0.0002\n",
            "Epoch 199/200, Loss: 0.0002\n",
            "Epoch 200/200, Loss: 0.0002\n"
          ]
        }
      ]
    },
    {
      "cell_type": "code",
      "source": [
        "print(\"Model Summary:\\n\")\n",
        "summary(model, input_size=(16, 91, 52))  # Ensure batch size and dimensions match\n"
      ],
      "metadata": {
        "colab": {
          "base_uri": "https://localhost:8080/"
        },
        "id": "m1O4TbFXp9sK",
        "outputId": "3ec03ac5-9c60-4cf1-9246-c1cfc2b686ee"
      },
      "execution_count": null,
      "outputs": [
        {
          "output_type": "stream",
          "name": "stdout",
          "text": [
            "Model Summary:\n",
            "\n"
          ]
        },
        {
          "output_type": "execute_result",
          "data": {
            "text/plain": [
              "=========================================================================================================\n",
              "Layer (type:depth-idx)                                  Output Shape              Param #\n",
              "=========================================================================================================\n",
              "PatchTSTForClassification                               [16, 2]                   --\n",
              "├─PatchTSTModel: 1-1                                    [16, 52, 80, 12]          --\n",
              "│    └─PatchTSTScaler: 2-1                              [16, 91, 52]              --\n",
              "│    │    └─PatchTSTStdScaler: 3-1                      [16, 91, 52]              --\n",
              "│    └─PatchTSTPatchify: 2-2                            [16, 52, 80, 12]          --\n",
              "│    └─Identity: 2-3                                    [16, 52, 80, 12]          --\n",
              "│    └─PatchTSTEncoder: 2-4                             [16, 52, 81, 128]         --\n",
              "│    │    └─PatchTSTEmbedding: 3-2                      [16, 52, 80, 128]         1,664\n",
              "│    │    └─PatchTSTPositionalEncoding: 3-3             [16, 52, 81, 128]         10,496\n",
              "│    │    └─ModuleList: 3-4                             --                        594,816\n",
              "├─PatchTSTClassificationHead: 1-2                       [16, 2]                   --\n",
              "│    └─Flatten: 2-5                                     [16, 6656]                --\n",
              "│    └─Identity: 2-6                                    [16, 6656]                --\n",
              "│    └─Linear: 2-7                                      [16, 2]                   13,314\n",
              "=========================================================================================================\n",
              "Total params: 620,290\n",
              "Trainable params: 609,922\n",
              "Non-trainable params: 10,368\n",
              "Total mult-adds (Units.MEGABYTES): 495.13\n",
              "=========================================================================================================\n",
              "Input size (MB): 0.30\n",
              "Forward/backward pass size (MB): 2345.47\n",
              "Params size (MB): 2.44\n",
              "Estimated Total Size (MB): 2348.21\n",
              "========================================================================================================="
            ]
          },
          "metadata": {},
          "execution_count": 9
        }
      ]
    },
    {
      "cell_type": "code",
      "source": [
        "!pip install fvcore"
      ],
      "metadata": {
        "colab": {
          "base_uri": "https://localhost:8080/"
        },
        "id": "zLapR2iyqqyb",
        "outputId": "faa0f64e-75a9-4b79-ef94-1d50204ed4e1"
      },
      "execution_count": null,
      "outputs": [
        {
          "output_type": "stream",
          "name": "stdout",
          "text": [
            "Collecting fvcore\n",
            "  Downloading fvcore-0.1.5.post20221221.tar.gz (50 kB)\n",
            "\u001b[2K     \u001b[90m━━━━━━━━━━━━━━━━━━━━━━━━━━━━━━━━━━━━━━━━\u001b[0m \u001b[32m50.2/50.2 kB\u001b[0m \u001b[31m4.4 MB/s\u001b[0m eta \u001b[36m0:00:00\u001b[0m\n",
            "\u001b[?25h  Preparing metadata (setup.py) ... \u001b[?25l\u001b[?25hdone\n",
            "Requirement already satisfied: numpy in /usr/local/lib/python3.11/dist-packages (from fvcore) (2.0.2)\n",
            "Collecting yacs>=0.1.6 (from fvcore)\n",
            "  Downloading yacs-0.1.8-py3-none-any.whl.metadata (639 bytes)\n",
            "Requirement already satisfied: pyyaml>=5.1 in /usr/local/lib/python3.11/dist-packages (from fvcore) (6.0.2)\n",
            "Requirement already satisfied: tqdm in /usr/local/lib/python3.11/dist-packages (from fvcore) (4.67.1)\n",
            "Requirement already satisfied: termcolor>=1.1 in /usr/local/lib/python3.11/dist-packages (from fvcore) (3.0.1)\n",
            "Requirement already satisfied: Pillow in /usr/local/lib/python3.11/dist-packages (from fvcore) (11.1.0)\n",
            "Requirement already satisfied: tabulate in /usr/local/lib/python3.11/dist-packages (from fvcore) (0.9.0)\n",
            "Collecting iopath>=0.1.7 (from fvcore)\n",
            "  Downloading iopath-0.1.10.tar.gz (42 kB)\n",
            "\u001b[2K     \u001b[90m━━━━━━━━━━━━━━━━━━━━━━━━━━━━━━━━━━━━━━━━\u001b[0m \u001b[32m42.2/42.2 kB\u001b[0m \u001b[31m3.7 MB/s\u001b[0m eta \u001b[36m0:00:00\u001b[0m\n",
            "\u001b[?25h  Preparing metadata (setup.py) ... \u001b[?25l\u001b[?25hdone\n",
            "Requirement already satisfied: typing_extensions in /usr/local/lib/python3.11/dist-packages (from iopath>=0.1.7->fvcore) (4.13.1)\n",
            "Collecting portalocker (from iopath>=0.1.7->fvcore)\n",
            "  Downloading portalocker-3.1.1-py3-none-any.whl.metadata (8.6 kB)\n",
            "Downloading yacs-0.1.8-py3-none-any.whl (14 kB)\n",
            "Downloading portalocker-3.1.1-py3-none-any.whl (19 kB)\n",
            "Building wheels for collected packages: fvcore, iopath\n",
            "  Building wheel for fvcore (setup.py) ... \u001b[?25l\u001b[?25hdone\n",
            "  Created wheel for fvcore: filename=fvcore-0.1.5.post20221221-py3-none-any.whl size=61397 sha256=fedd097a9acbe2f2dbb3a5adae746ffbe62a298788cfc7c851dc3affc4f69fae\n",
            "  Stored in directory: /root/.cache/pip/wheels/65/71/95/3b8fde5c65c6e4a806e0867c1651dcc71a1cb2f3430e8f355f\n",
            "  Building wheel for iopath (setup.py) ... \u001b[?25l\u001b[?25hdone\n",
            "  Created wheel for iopath: filename=iopath-0.1.10-py3-none-any.whl size=31527 sha256=9fddf7a27b51b5b42029a325bf05f63ed5805b41b0fcdce432dbaca61238fb8d\n",
            "  Stored in directory: /root/.cache/pip/wheels/ba/5e/16/6117f8fe7e9c0c161a795e10d94645ebcf301ccbd01f66d8ec\n",
            "Successfully built fvcore iopath\n",
            "Installing collected packages: yacs, portalocker, iopath, fvcore\n",
            "Successfully installed fvcore-0.1.5.post20221221 iopath-0.1.10 portalocker-3.1.1 yacs-0.1.8\n"
          ]
        }
      ]
    },
    {
      "cell_type": "code",
      "source": [
        "import torch.nn as nn\n",
        "from fvcore.nn import FlopCountAnalysis, flop_count_table\n",
        "\n",
        "# Create a wrapper so the input tensor goes as past_values\n",
        "class PatchTSTWrapper(nn.Module):\n",
        "    def __init__(self, model):\n",
        "        super().__init__()\n",
        "        self.model = model\n",
        "\n",
        "    def forward(self, x):\n",
        "        return self.model(past_values=x)\n",
        "\n",
        "# Wrap your model\n",
        "wrapped_model = PatchTSTWrapper(model)\n",
        "\n",
        "# Dummy input matching your model's expected shape\n",
        "dummy_input = torch.randn(1, 91, 52).to(device)\n",
        "\n",
        "# Move the wrapper to the same device\n",
        "wrapped_model.to(device)\n",
        "\n",
        "# Compute FLOPs\n",
        "flops = FlopCountAnalysis(wrapped_model, dummy_input)\n",
        "print(flop_count_table(flops))\n"
      ],
      "metadata": {
        "colab": {
          "base_uri": "https://localhost:8080/"
        },
        "id": "i3TPuFWqqrno",
        "outputId": "871bec65-98d7-48ec-db8c-b12bb6f70723"
      },
      "execution_count": null,
      "outputs": [
        {
          "output_type": "stream",
          "name": "stdout",
          "text": [
            "| module                                           | #parameters or shape   | #flops    |\n",
            "|:-------------------------------------------------|:-----------------------|:----------|\n",
            "| model                                            | 0.62M                  | 2.759G    |\n",
            "|  model.encoder                                   |  0.607M                |  2.759G   |\n",
            "|   model.encoder.embedder.input_embedding         |   1.664K               |   6.39M   |\n",
            "|    model.encoder.embedder.input_embedding.weight |    (128, 12)           |           |\n",
            "|    model.encoder.embedder.input_embedding.bias   |    (128,)              |           |\n",
            "|   model.encoder.positional_encoder               |   10.496K              |   0       |\n",
            "|    model.encoder.positional_encoder.cls_token    |    (1, 1, 1, 128)      |           |\n",
            "|    model.encoder.positional_encoder.position_enc |    (81, 128)           |           |\n",
            "|   model.encoder.layers                           |   0.595M               |   2.753G  |\n",
            "|    model.encoder.layers.0                        |    0.198M              |    0.918G |\n",
            "|    model.encoder.layers.1                        |    0.198M              |    0.918G |\n",
            "|    model.encoder.layers.2                        |    0.198M              |    0.918G |\n",
            "|  head.linear                                     |  13.314K               |  13.312K  |\n",
            "|   head.linear.weight                             |   (2, 6656)            |           |\n",
            "|   head.linear.bias                               |   (2,)                 |           |\n"
          ]
        }
      ]
    },
    {
      "cell_type": "code",
      "source": [
        "# Plot loss curve\n",
        "plt.plot(range(epochs), losses, label=\"Loss\")\n",
        "plt.xlabel(\"Epochs\")\n",
        "plt.ylabel(\"Loss\")\n",
        "plt.title(\"Loss Curve\")\n",
        "plt.legend()\n",
        "plt.grid(True)\n",
        "plt.show()"
      ],
      "metadata": {
        "colab": {
          "base_uri": "https://localhost:8080/",
          "height": 472
        },
        "id": "aHh-v-l8p9IK",
        "outputId": "80e89d69-9294-4050-9966-0db020b6c2af"
      },
      "execution_count": null,
      "outputs": [
        {
          "output_type": "display_data",
          "data": {
            "text/plain": [
              "<Figure size 640x480 with 1 Axes>"
            ],
            "image/png": "[encoded data removed]"
          },
          "metadata": {}
        }
      ]
    },
    {
      "cell_type": "code",
      "source": [
        "model.eval()\n",
        "X_full, y_full = torch.tensor(X, dtype=torch.float32).to(device), torch.tensor(\n",
        "    y, dtype=torch.long\n",
        ").to(device)\n",
        "\n",
        "with torch.no_grad():\n",
        "    full_outputs = model(past_values=X_full).prediction_logits\n",
        "    full_predictions = torch.argmax(full_outputs, dim=1)\n",
        "\n",
        "y_full_cpu, full_predictions_cpu = y_full.cpu().numpy(), full_predictions.cpu().numpy()\n",
        "\n",
        "# Compute accuracy\n",
        "full_acc = accuracy_score(y_full_cpu, full_predictions_cpu)\n",
        "print(f\"Accuracy: {full_acc:.4f}\")\n",
        "\n",
        "# Classification Report\n",
        "print(\"\\nClassification Report:\")\n",
        "print(classification_report(y_full_cpu, full_predictions_cpu, target_names=[\"Absent\", \"Present\"]))\n",
        "\n",
        "# Confusion Matrix\n",
        "conf_matrix = confusion_matrix(y_full_cpu, full_predictions_cpu)\n",
        "plt.figure(figsize=(6, 5))\n",
        "sns.heatmap(\n",
        "    conf_matrix,\n",
        "    annot=True,\n",
        "    fmt=\"d\",\n",
        "    cmap=\"Blues\",\n",
        "    xticklabels=[\"Absent\", \"Present\"],\n",
        "    yticklabels=[\"Absent\", \"Present\"],\n",
        ")\n",
        "plt.xlabel(\"Predicted Label\")\n",
        "plt.ylabel(\"True Label\")\n",
        "plt.title(\"Confusion Matrix\")\n",
        "plt.show()\n"
      ],
      "metadata": {
        "colab": {
          "base_uri": "https://localhost:8080/",
          "height": 703
        },
        "id": "f8Ry6QEuqAM1",
        "outputId": "17f1fea5-2282-4313-8a8c-7847682519e6"
      },
      "execution_count": null,
      "outputs": [
        {
          "output_type": "stream",
          "name": "stdout",
          "text": [
            "Accuracy: 0.9085\n",
            "\n",
            "Classification Report:\n",
            "              precision    recall  f1-score   support\n",
            "\n",
            "      Absent       0.89      0.94      0.92        87\n",
            "     Present       0.93      0.87      0.90        77\n",
            "\n",
            "    accuracy                           0.91       164\n",
            "   macro avg       0.91      0.91      0.91       164\n",
            "weighted avg       0.91      0.91      0.91       164\n",
            "\n"
          ]
        },
        {
          "output_type": "display_data",
          "data": {
            "text/plain": [
              "<Figure size 600x500 with 2 Axes>"
            ],
            "image/png": "[encoded data removed]"
          },
          "metadata": {}
        }
      ]
    },
    {
      "cell_type": "code",
      "source": [
        "import torch\n",
        "import numpy as np\n",
        "import pickle\n",
        "\n",
        "# Ensure model is in evaluation mode\n",
        "model.eval()\n",
        "\n",
        "# Get predictions for the full dataset (train + test)\n",
        "X_full_tensor = torch.tensor(X, dtype=torch.float32).to(device)  # Use X (full dataset)\n",
        "with torch.no_grad():\n",
        "    outputs = model(past_values=X_full_tensor).prediction_logits  # Shape: (164, 2)\n",
        "    y_pred_patchtst = torch.softmax(outputs, dim=1)[:, 1].cpu().numpy()  # Extract probability of class 1\n",
        "\n",
        "# Save full predictions\n",
        "save_dir = \"/content/drive/My Drive/stacking_preds/\"\n",
        "if not os.path.exists(save_dir):\n",
        "    os.makedirs(save_dir)\n",
        "\n",
        "file_path = os.path.join(save_dir, \"patchtst2.pkl\")\n",
        "with open(file_path, \"wb\") as f:\n",
        "    pickle.dump(y_pred_patchtst, f)\n",
        "\n",
        "print(f\"Saved PatchTST predictions for all 164 samples at: {file_path}\")\n"
      ],
      "metadata": {
        "colab": {
          "base_uri": "https://localhost:8080/"
        },
        "id": "tOS_dbwfttPi",
        "outputId": "083c82bd-b3f4-4845-bbd5-65baa26f1b6a"
      },
      "execution_count": null,
      "outputs": [
        {
          "output_type": "stream",
          "name": "stdout",
          "text": [
            "Saved PatchTST predictions for all 164 samples at: /content/drive/My Drive/stacking_preds/patchtst2.pkl\n"
          ]
        }
      ]
    }
  ]
}