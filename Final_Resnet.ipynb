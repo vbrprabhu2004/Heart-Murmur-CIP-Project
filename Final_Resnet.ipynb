{
  "cells": [
    {
      "cell_type": "code",
      "execution_count": null,
      "metadata": {
        "colab": {
          "base_uri": "https://localhost:8080/"
        },
        "id": "XB7xghdgG_iF",
        "outputId": "9970aa79-6f6a-4c33-bb5a-1987ff96471e"
      },
      "outputs": [
        {
          "output_type": "stream",
          "name": "stdout",
          "text": [
            "Mounted at /content/drive\n"
          ]
        }
      ],
      "source": [
        "from google.colab import drive\n",
        "drive.mount('/content/drive')\n"
      ]
    },
    {
      "cell_type": "code",
      "execution_count": null,
      "metadata": {
        "id": "dGm5gEX_9YZ9"
      },
      "outputs": [],
      "source": [
        "import torch\n",
        "import torch.nn as nn\n",
        "\n",
        "class ResidualBlock(nn.Module):\n",
        "    def __init__(self, in_channels, out_channels, stride=1, downsample=None):\n",
        "        super(ResidualBlock, self).__init__()\n",
        "        self.conv1 = nn.Conv2d(in_channels, out_channels, kernel_size=3,\n",
        "                               stride=stride, padding=1, bias=False)\n",
        "        self.bn1 = nn.BatchNorm2d(out_channels)\n",
        "        self.relu = nn.ReLU(inplace=True)\n",
        "        self.conv2 = nn.Conv2d(out_channels, out_channels, kernel_size=3,\n",
        "                               stride=1, padding=1, bias=False)\n",
        "        self.bn2 = nn.BatchNorm2d(out_channels)\n",
        "        self.downsample = downsample\n",
        "\n",
        "    def forward(self, x):\n",
        "        identity = x\n",
        "        out = self.relu(self.bn1(self.conv1(x)))\n",
        "        out = self.bn2(self.conv2(out))\n",
        "        if self.downsample:\n",
        "            identity = self.downsample(x)\n",
        "        out += identity\n",
        "        return self.relu(out)\n"
      ]
    },
    {
      "cell_type": "code",
      "execution_count": null,
      "metadata": {
        "id": "nzyqWya69Z_z"
      },
      "outputs": [],
      "source": [
        "class ResNet(nn.Module):\n",
        "    def __init__(self, block, layers, num_classes=2):\n",
        "        super(ResNet, self).__init__()\n",
        "        self.in_channels = 64\n",
        "        self.conv1 = nn.Conv2d(1, 64, kernel_size=7, stride=2, padding=3,\n",
        "                               bias=False)\n",
        "        self.bn1 = nn.BatchNorm2d(64)\n",
        "        self.relu = nn.ReLU(inplace=True)\n",
        "        self.maxpool = nn.MaxPool2d(kernel_size=3, stride=2, padding=1)\n",
        "        self.layer1 = self._make_layer(block, 64, layers[0])\n",
        "        self.layer2 = self._make_layer(block, 128, layers[1], stride=2)\n",
        "        self.layer3 = self._make_layer(block, 256, layers[2], stride=2)\n",
        "        self.layer4 = self._make_layer(block, 512, layers[3], stride=2)\n",
        "        self.avgpool = nn.AdaptiveAvgPool2d((1, 1))\n",
        "        self.fc = nn.Linear(512, num_classes)\n",
        "\n",
        "    def _make_layer(self, block, out_channels, blocks, stride=1):\n",
        "        downsample = None\n",
        "        if stride != 1 or self.in_channels != out_channels:\n",
        "            downsample = nn.Sequential(\n",
        "                nn.Conv2d(self.in_channels, out_channels,\n",
        "                          kernel_size=1, stride=stride, bias=False),\n",
        "                nn.BatchNorm2d(out_channels),\n",
        "            )\n",
        "        layers = []\n",
        "        layers.append(block(self.in_channels, out_channels, stride, downsample))\n",
        "        self.in_channels = out_channels\n",
        "        for _ in range(1, blocks):\n",
        "            layers.append(block(out_channels, out_channels))\n",
        "        return nn.Sequential(*layers)\n",
        "\n",
        "    def forward(self, x):\n",
        "        x = self.relu(self.bn1(self.conv1(x)))\n",
        "        x = self.maxpool(x)\n",
        "        x = self.layer1(x)\n",
        "        x = self.layer2(x)\n",
        "        x = self.layer3(x)\n",
        "        x = self.layer4(x)\n",
        "        x = self.avgpool(x)\n",
        "        x = torch.flatten(x, 1)\n",
        "        x = self.fc(x)\n",
        "        return x\n"
      ]
    },
    {
      "cell_type": "code",
      "execution_count": null,
      "metadata": {
        "id": "NkyGWwvv9bYh"
      },
      "outputs": [],
      "source": [
        "def resnet18(num_classes=2):\n",
        "    return ResNet(ResidualBlock, [2, 2, 2, 2], num_classes)\n"
      ]
    },
    {
      "cell_type": "code",
      "execution_count": null,
      "metadata": {
        "id": "qjNuwH5j9c-W"
      },
      "outputs": [],
      "source": [
        "import numpy as np\n",
        "\n",
        "# Assuming mfcc_features is a NumPy array of shape (91, 52)\n",
        "mfcc_features = np.random.rand(91, 52).astype(np.float32)\n",
        "\n",
        "# Convert to a PyTorch tensor and add batch and channel dimensions\n",
        "import torch\n",
        "input_tensor = torch.tensor(mfcc_features).unsqueeze(0).unsqueeze(0)  # Shape: (1, 1, 91, 52)\n"
      ]
    },
    {
      "cell_type": "code",
      "execution_count": null,
      "metadata": {
        "id": "d3rcUBC99egI"
      },
      "outputs": [],
      "source": [
        "from torch.utils.data import Dataset\n",
        "import pandas as pd\n",
        "import numpy as np\n",
        "import torch\n",
        "import os\n",
        "\n",
        "class MFCCDataset(Dataset):\n",
        "    def __init__(self, file_paths):\n",
        "        self.file_paths = file_paths\n",
        "\n",
        "    def __len__(self):\n",
        "        return len(self.file_paths)\n",
        "\n",
        "    def __getitem__(self, idx):\n",
        "        path = self.file_paths[idx]\n",
        "        label = int(path.split(\"_\")[-1].split(\".\")[0])  # 'patient_id_1.csv' → 1\n",
        "        label = torch.tensor(label, dtype=torch.long)\n",
        "\n",
        "        df = pd.read_csv(path, header=0)  # Skip header if exists\n",
        "        features = df.iloc[:, 1:].values.astype(np.float32)  # Shape (91, 52)\n",
        "        features = torch.tensor(features).unsqueeze(0)  # Add channel dim → (1, 91, 52)\n",
        "\n",
        "        return features, label\n"
      ]
    },
    {
      "cell_type": "code",
      "execution_count": null,
      "metadata": {
        "id": "FgOXS8Xa9oS1"
      },
      "outputs": [],
      "source": [
        "from torch.utils.data import DataLoader\n",
        "from sklearn.model_selection import train_test_split\n",
        "\n",
        "# Get all file paths\n",
        "data_dir = \"/content/drive/MyDrive/Normalized3/Final\"\n",
        "file_paths = [os.path.join(data_dir, f) for f in os.listdir(data_dir) if f.endswith(\".csv\")]\n",
        "\n",
        "labels = [1 if \"_1.csv\" in f else 0 for f in file_paths]\n",
        "train_paths, val_paths = train_test_split(file_paths, test_size=0.2, stratify=labels, random_state=42)\n",
        "\n",
        "train_dataset = MFCCDataset(train_paths)\n",
        "val_dataset = MFCCDataset(val_paths)\n",
        "\n",
        "train_loader = DataLoader(train_dataset, batch_size=16, shuffle=True)               //Batch Size\n",
        "val_loader = DataLoader(val_dataset, batch_size=16, shuffle=False)\n"
      ]
    },
    {
      "cell_type": "code",
      "execution_count": null,
      "metadata": {
        "id": "aQ5orQdP9sGt"
      },
      "outputs": [],
      "source": [
        "device = torch.device(\"cuda\" if torch.cuda.is_available() else \"cpu\")\n",
        "\n",
        "model = resnet18(num_classes=2).to(device)\n",
        "criterion = nn.CrossEntropyLoss(label_smoothing=0.1)\n",
        "optimizer = torch.optim.Adam(model.parameters(), lr=0.001)                          //Optimizer\n",
        "scheduler = torch.optim.lr_scheduler.ReduceLROnPlateau(optimizer, mode='min', patience=3, factor=0.5)\n"
      ]
    },
    {
      "cell_type": "code",
      "source": [
        "import matplotlib.pyplot as plt\n",
        "import pickle\n",
        "import numpy as np\n",
        "import torch\n",
        "from torch.utils.data import DataLoader\n",
        "\n",
        "train_losses = []\n",
        "val_losses = []\n",
        "num_epochs = 150\n",
        "\n",
        "for epoch in range(num_epochs):\n",
        "    model.train()\n",
        "    running_loss = 0.0\n",
        "    for inputs, labels in train_loader:\n",
        "        inputs, labels = inputs.to(device), labels.to(device)\n",
        "\n",
        "        optimizer.zero_grad()\n",
        "        outputs = model(inputs)\n",
        "        loss = criterion(outputs, labels)\n",
        "        loss.backward()\n",
        "        optimizer.step()\n",
        "        running_loss += loss.item()\n",
        "\n",
        "    train_loss = running_loss / len(train_loader)\n",
        "    train_losses.append(train_loss)\n",
        "\n",
        "    # Validation\n",
        "    model.eval()\n",
        "    val_loss = 0.0\n",
        "    with torch.no_grad():\n",
        "        for inputs, labels in val_loader:\n",
        "            inputs, labels = inputs.to(device), labels.to(device)\n",
        "            outputs = model(inputs)\n",
        "            loss = criterion(outputs, labels)\n",
        "            val_loss += loss.item()\n",
        "\n",
        "    val_loss /= len(val_loader)\n",
        "    val_losses.append(val_loss)\n",
        "    scheduler.step(val_loss)\n",
        "\n",
        "    print(f\"Epoch [{epoch+1}/{num_epochs}], Train Loss: {train_loss:.4f}, Val Loss: {val_loss:.4f}\")\n",
        "\n",
        "# Plotting the training loss curve\n",
        "plt.plot(range(1, num_epochs + 1), train_losses, label=\"Train Loss\")\n",
        "plt.xlabel(\"Epochs\")\n",
        "plt.ylabel(\"Loss\")\n",
        "plt.title(\"Training Curve\")\n",
        "plt.legend()\n",
        "plt.grid()\n",
        "plt.show()\n",
        "\n",
        "\n",
        "\n",
        "# Save trained model\n",
        "model_path = \"/content/drive/MyDrive/stacking_preds/resnet_final.pkl\"\n",
        "torch.save(model.state_dict(), model_path)\n",
        "print(f\"Model saved to {model_path}\")\n",
        "\n",
        "# Load trained model for prediction\n",
        "model.load_state_dict(torch.load(model_path, map_location=device))\n",
        "model.eval()\n",
        "\n",
        "# Load test dataset (All 164 patients)\n",
        "test_dataset = MFCCDataset(file_paths)  # file_paths should have all normalized2/final paths\n",
        "test_loader = DataLoader(test_dataset, batch_size=16, shuffle=False)\n",
        "\n",
        "# Generate and save predictions\n",
        "all_preds = []\n",
        "with torch.no_grad():\n",
        "    for inputs, _ in test_loader:\n",
        "        inputs = inputs.to(device)\n",
        "        outputs = model(inputs)\n",
        "        _, preds = torch.max(outputs, 1)\n",
        "        all_preds.extend(preds.cpu().numpy())\n",
        "\n",
        "# Save as pickle file\n",
        "output_path = \"/content/drive/MyDrive/stacking_preds/resnet_preds.pkl\"\n",
        "with open(output_path, 'wb') as f:\n",
        "    pickle.dump(np.array(all_preds), f)\n",
        "\n",
        "print(f\"Predictions saved to {output_path}\")\n"
      ],
      "metadata": {
        "colab": {
          "base_uri": "https://localhost:8080/",
          "height": 1000
        },
        "id": "iIlwSm_wOXmG",
        "outputId": "169e91ed-2639-468c-e106-3272b56be2bf"
      },
      "execution_count": null,
      "outputs": [
        {
          "output_type": "stream",
          "name": "stdout",
          "text": [
            "Epoch [1/150], Train Loss: 0.9916, Val Loss: 0.7100\n",
            "Epoch [2/150], Train Loss: 0.7210, Val Loss: 0.7689\n",
            "Epoch [3/150], Train Loss: 0.5962, Val Loss: 1.5870\n",
            "Epoch [4/150], Train Loss: 0.6880, Val Loss: 0.7947\n",
            "Epoch [5/150], Train Loss: 0.6179, Val Loss: 0.8629\n",
            "Epoch [6/150], Train Loss: 0.6242, Val Loss: 1.2143\n",
            "Epoch [7/150], Train Loss: 0.4902, Val Loss: 1.2052\n",
            "Epoch [8/150], Train Loss: 0.4763, Val Loss: 1.7789\n",
            "Epoch [9/150], Train Loss: 0.4512, Val Loss: 1.2928\n",
            "Epoch [10/150], Train Loss: 0.4749, Val Loss: 2.4286\n",
            "Epoch [11/150], Train Loss: 0.4458, Val Loss: 1.1767\n",
            "Epoch [12/150], Train Loss: 0.3770, Val Loss: 1.6463\n",
            "Epoch [13/150], Train Loss: 0.3314, Val Loss: 1.6582\n",
            "Epoch [14/150], Train Loss: 0.2891, Val Loss: 1.7303\n",
            "Epoch [15/150], Train Loss: 0.3278, Val Loss: 1.5768\n",
            "Epoch [16/150], Train Loss: 0.2778, Val Loss: 0.8232\n",
            "Epoch [17/150], Train Loss: 0.2535, Val Loss: 1.2105\n",
            "Epoch [18/150], Train Loss: 0.3117, Val Loss: 1.4065\n",
            "Epoch [19/150], Train Loss: 0.2737, Val Loss: 0.9461\n",
            "Epoch [20/150], Train Loss: 0.2468, Val Loss: 0.8689\n",
            "Epoch [21/150], Train Loss: 0.2628, Val Loss: 1.1293\n",
            "Epoch [22/150], Train Loss: 0.2302, Val Loss: 1.3004\n",
            "Epoch [23/150], Train Loss: 0.2391, Val Loss: 1.2203\n",
            "Epoch [24/150], Train Loss: 0.2235, Val Loss: 1.4001\n",
            "Epoch [25/150], Train Loss: 0.2232, Val Loss: 1.3322\n",
            "Epoch [26/150], Train Loss: 0.2703, Val Loss: 1.2899\n",
            "Epoch [27/150], Train Loss: 0.2806, Val Loss: 1.4086\n",
            "Epoch [28/150], Train Loss: 0.2483, Val Loss: 1.5238\n",
            "Epoch [29/150], Train Loss: 0.2563, Val Loss: 1.2686\n",
            "Epoch [30/150], Train Loss: 0.2561, Val Loss: 1.2496\n",
            "Epoch [31/150], Train Loss: 0.2232, Val Loss: 1.2728\n",
            "Epoch [32/150], Train Loss: 0.2265, Val Loss: 1.3315\n",
            "Epoch [33/150], Train Loss: 0.2391, Val Loss: 1.3292\n",
            "Epoch [34/150], Train Loss: 0.2219, Val Loss: 1.3562\n",
            "Epoch [35/150], Train Loss: 0.2314, Val Loss: 1.3433\n",
            "Epoch [36/150], Train Loss: 0.2175, Val Loss: 1.2980\n",
            "Epoch [37/150], Train Loss: 0.2203, Val Loss: 1.2860\n",
            "Epoch [38/150], Train Loss: 0.2787, Val Loss: 1.3792\n",
            "Epoch [39/150], Train Loss: 0.2114, Val Loss: 1.2960\n",
            "Epoch [40/150], Train Loss: 0.2230, Val Loss: 1.3202\n",
            "Epoch [41/150], Train Loss: 0.2280, Val Loss: 1.2792\n",
            "Epoch [42/150], Train Loss: 0.2199, Val Loss: 1.3000\n",
            "Epoch [43/150], Train Loss: 0.2599, Val Loss: 1.2584\n",
            "Epoch [44/150], Train Loss: 0.2255, Val Loss: 1.2628\n",
            "Epoch [45/150], Train Loss: 0.2136, Val Loss: 1.3093\n",
            "Epoch [46/150], Train Loss: 0.2610, Val Loss: 1.3868\n",
            "Epoch [47/150], Train Loss: 0.2733, Val Loss: 1.4058\n",
            "Epoch [48/150], Train Loss: 0.2162, Val Loss: 1.2943\n",
            "Epoch [49/150], Train Loss: 0.2156, Val Loss: 1.3102\n",
            "Epoch [50/150], Train Loss: 0.2171, Val Loss: 1.2932\n",
            "Epoch [51/150], Train Loss: 0.2227, Val Loss: 1.2668\n",
            "Epoch [52/150], Train Loss: 0.2630, Val Loss: 1.2342\n",
            "Epoch [53/150], Train Loss: 0.2283, Val Loss: 1.2837\n",
            "Epoch [54/150], Train Loss: 0.2209, Val Loss: 1.3356\n",
            "Epoch [55/150], Train Loss: 0.2989, Val Loss: 1.3914\n",
            "Epoch [56/150], Train Loss: 0.2627, Val Loss: 1.2605\n",
            "Epoch [57/150], Train Loss: 0.2180, Val Loss: 1.2718\n",
            "Epoch [58/150], Train Loss: 0.2177, Val Loss: 1.3116\n",
            "Epoch [59/150], Train Loss: 0.2527, Val Loss: 1.2221\n",
            "Epoch [60/150], Train Loss: 0.2308, Val Loss: 1.2847\n",
            "Epoch [61/150], Train Loss: 0.2910, Val Loss: 1.3867\n",
            "Epoch [62/150], Train Loss: 0.2184, Val Loss: 1.3199\n",
            "Epoch [63/150], Train Loss: 0.2180, Val Loss: 1.2743\n",
            "Epoch [64/150], Train Loss: 0.2153, Val Loss: 1.3051\n",
            "Epoch [65/150], Train Loss: 0.2298, Val Loss: 1.3371\n",
            "Epoch [66/150], Train Loss: 0.2133, Val Loss: 1.2659\n",
            "Epoch [67/150], Train Loss: 0.2150, Val Loss: 1.3205\n",
            "Epoch [68/150], Train Loss: 0.2387, Val Loss: 1.3497\n",
            "Epoch [69/150], Train Loss: 0.2129, Val Loss: 1.2959\n",
            "Epoch [70/150], Train Loss: 0.2698, Val Loss: 1.3623\n",
            "Epoch [71/150], Train Loss: 0.2105, Val Loss: 1.2995\n",
            "Epoch [72/150], Train Loss: 0.2710, Val Loss: 1.2052\n",
            "Epoch [73/150], Train Loss: 0.2146, Val Loss: 1.2772\n",
            "Epoch [74/150], Train Loss: 0.2231, Val Loss: 1.2760\n",
            "Epoch [75/150], Train Loss: 0.2158, Val Loss: 1.2913\n",
            "Epoch [76/150], Train Loss: 0.2203, Val Loss: 1.2663\n",
            "Epoch [77/150], Train Loss: 0.2230, Val Loss: 1.3089\n",
            "Epoch [78/150], Train Loss: 0.2220, Val Loss: 1.2826\n",
            "Epoch [79/150], Train Loss: 0.2184, Val Loss: 1.2306\n",
            "Epoch [80/150], Train Loss: 0.2206, Val Loss: 1.2322\n",
            "Epoch [81/150], Train Loss: 0.2641, Val Loss: 1.2214\n",
            "Epoch [82/150], Train Loss: 0.2190, Val Loss: 1.2280\n",
            "Epoch [83/150], Train Loss: 0.2145, Val Loss: 1.2313\n",
            "Epoch [84/150], Train Loss: 0.2568, Val Loss: 1.2294\n",
            "Epoch [85/150], Train Loss: 0.2160, Val Loss: 1.2058\n",
            "Epoch [86/150], Train Loss: 0.2298, Val Loss: 1.2815\n",
            "Epoch [87/150], Train Loss: 0.2176, Val Loss: 1.3018\n",
            "Epoch [88/150], Train Loss: 0.2216, Val Loss: 1.3424\n",
            "Epoch [89/150], Train Loss: 0.2191, Val Loss: 1.3187\n",
            "Epoch [90/150], Train Loss: 0.2383, Val Loss: 1.3461\n",
            "Epoch [91/150], Train Loss: 0.2738, Val Loss: 1.4103\n",
            "Epoch [92/150], Train Loss: 0.2187, Val Loss: 1.3155\n",
            "Epoch [93/150], Train Loss: 0.2735, Val Loss: 1.3595\n",
            "Epoch [94/150], Train Loss: 0.2193, Val Loss: 1.2967\n",
            "Epoch [95/150], Train Loss: 0.2237, Val Loss: 1.2700\n",
            "Epoch [96/150], Train Loss: 0.2141, Val Loss: 1.2849\n",
            "Epoch [97/150], Train Loss: 0.2391, Val Loss: 1.1853\n",
            "Epoch [98/150], Train Loss: 0.2138, Val Loss: 1.2651\n",
            "Epoch [99/150], Train Loss: 0.2227, Val Loss: 1.3002\n",
            "Epoch [100/150], Train Loss: 0.2169, Val Loss: 1.3210\n",
            "Epoch [101/150], Train Loss: 0.2183, Val Loss: 1.2752\n",
            "Epoch [102/150], Train Loss: 0.2114, Val Loss: 1.2528\n",
            "Epoch [103/150], Train Loss: 0.2113, Val Loss: 1.2592\n",
            "Epoch [104/150], Train Loss: 0.2115, Val Loss: 1.2472\n",
            "Epoch [105/150], Train Loss: 0.2183, Val Loss: 1.3152\n",
            "Epoch [106/150], Train Loss: 0.2210, Val Loss: 1.3177\n",
            "Epoch [107/150], Train Loss: 0.2844, Val Loss: 1.3744\n",
            "Epoch [108/150], Train Loss: 0.2120, Val Loss: 1.2739\n",
            "Epoch [109/150], Train Loss: 0.2147, Val Loss: 1.2673\n",
            "Epoch [110/150], Train Loss: 0.2186, Val Loss: 1.2299\n",
            "Epoch [111/150], Train Loss: 0.2178, Val Loss: 1.2913\n",
            "Epoch [112/150], Train Loss: 0.2306, Val Loss: 1.2739\n",
            "Epoch [113/150], Train Loss: 0.2311, Val Loss: 1.2520\n",
            "Epoch [114/150], Train Loss: 0.2196, Val Loss: 1.2435\n",
            "Epoch [115/150], Train Loss: 0.2577, Val Loss: 1.2091\n",
            "Epoch [116/150], Train Loss: 0.2104, Val Loss: 1.3110\n",
            "Epoch [117/150], Train Loss: 0.2228, Val Loss: 1.3249\n",
            "Epoch [118/150], Train Loss: 0.2108, Val Loss: 1.2965\n",
            "Epoch [119/150], Train Loss: 0.2617, Val Loss: 1.2508\n",
            "Epoch [120/150], Train Loss: 0.2138, Val Loss: 1.2472\n",
            "Epoch [121/150], Train Loss: 0.2231, Val Loss: 1.2693\n",
            "Epoch [122/150], Train Loss: 0.2278, Val Loss: 1.3025\n",
            "Epoch [123/150], Train Loss: 0.2867, Val Loss: 1.3693\n",
            "Epoch [124/150], Train Loss: 0.2238, Val Loss: 1.3397\n",
            "Epoch [125/150], Train Loss: 0.2141, Val Loss: 1.3117\n",
            "Epoch [126/150], Train Loss: 0.2580, Val Loss: 1.2191\n",
            "Epoch [127/150], Train Loss: 0.3129, Val Loss: 1.1643\n",
            "Epoch [128/150], Train Loss: 0.2149, Val Loss: 1.2619\n",
            "Epoch [129/150], Train Loss: 0.2251, Val Loss: 1.3441\n",
            "Epoch [130/150], Train Loss: 0.2626, Val Loss: 1.2598\n",
            "Epoch [131/150], Train Loss: 0.2130, Val Loss: 1.2417\n",
            "Epoch [132/150], Train Loss: 0.2507, Val Loss: 1.2193\n",
            "Epoch [133/150], Train Loss: 0.2839, Val Loss: 1.2492\n",
            "Epoch [134/150], Train Loss: 0.2243, Val Loss: 1.2940\n",
            "Epoch [135/150], Train Loss: 0.2620, Val Loss: 1.2227\n",
            "Epoch [136/150], Train Loss: 0.2134, Val Loss: 1.2781\n",
            "Epoch [137/150], Train Loss: 0.2834, Val Loss: 1.2036\n",
            "Epoch [138/150], Train Loss: 0.2674, Val Loss: 1.1972\n",
            "Epoch [139/150], Train Loss: 0.2225, Val Loss: 1.2780\n",
            "Epoch [140/150], Train Loss: 0.2128, Val Loss: 1.2682\n",
            "Epoch [141/150], Train Loss: 0.2177, Val Loss: 1.2656\n",
            "Epoch [142/150], Train Loss: 0.2674, Val Loss: 1.3650\n",
            "Epoch [143/150], Train Loss: 0.2316, Val Loss: 1.3411\n",
            "Epoch [144/150], Train Loss: 0.2173, Val Loss: 1.2620\n",
            "Epoch [145/150], Train Loss: 0.2124, Val Loss: 1.2989\n",
            "Epoch [146/150], Train Loss: 0.2772, Val Loss: 1.2669\n",
            "Epoch [147/150], Train Loss: 0.2129, Val Loss: 1.2731\n",
            "Epoch [148/150], Train Loss: 0.2830, Val Loss: 1.3429\n",
            "Epoch [149/150], Train Loss: 0.2304, Val Loss: 1.3288\n",
            "Epoch [150/150], Train Loss: 0.2532, Val Loss: 1.2342\n"
          ]
        },
        {
          "output_type": "display_data",
          "data": {
            "text/plain": [
              "<Figure size 640x480 with 1 Axes>"
            ],
            "image/png": "[encoded data removed]"
          },
          "metadata": {}
        },
        {
          "output_type": "stream",
          "name": "stdout",
          "text": [
            "Model saved to /content/drive/MyDrive/stacking_preds/resnet_final.pkl\n",
            "Predictions saved to /content/drive/MyDrive/stacking_preds/resnet_preds.pkl\n"
          ]
        }
      ]
    },
    {
      "cell_type": "code",
      "execution_count": null,
      "metadata": {
        "colab": {
          "base_uri": "https://localhost:8080/"
        },
        "id": "L-R-nIhkAimY",
        "outputId": "3f91d05b-39cc-495b-8cea-4ac559987b04"
      },
      "outputs": [
        {
          "output_type": "stream",
          "name": "stdout",
          "text": [
            "----------------------------------------------------------------\n",
            "        Layer (type)               Output Shape         Param #\n",
            "================================================================\n",
            "            Conv2d-1           [-1, 64, 46, 26]           3,136\n",
            "       BatchNorm2d-2           [-1, 64, 46, 26]             128\n",
            "              ReLU-3           [-1, 64, 46, 26]               0\n",
            "         MaxPool2d-4           [-1, 64, 23, 13]               0\n",
            "            Conv2d-5           [-1, 64, 23, 13]          36,864\n",
            "       BatchNorm2d-6           [-1, 64, 23, 13]             128\n",
            "              ReLU-7           [-1, 64, 23, 13]               0\n",
            "            Conv2d-8           [-1, 64, 23, 13]          36,864\n",
            "       BatchNorm2d-9           [-1, 64, 23, 13]             128\n",
            "             ReLU-10           [-1, 64, 23, 13]               0\n",
            "    ResidualBlock-11           [-1, 64, 23, 13]               0\n",
            "           Conv2d-12           [-1, 64, 23, 13]          36,864\n",
            "      BatchNorm2d-13           [-1, 64, 23, 13]             128\n",
            "             ReLU-14           [-1, 64, 23, 13]               0\n",
            "           Conv2d-15           [-1, 64, 23, 13]          36,864\n",
            "      BatchNorm2d-16           [-1, 64, 23, 13]             128\n",
            "             ReLU-17           [-1, 64, 23, 13]               0\n",
            "    ResidualBlock-18           [-1, 64, 23, 13]               0\n",
            "           Conv2d-19           [-1, 128, 12, 7]          73,728\n",
            "      BatchNorm2d-20           [-1, 128, 12, 7]             256\n",
            "             ReLU-21           [-1, 128, 12, 7]               0\n",
            "           Conv2d-22           [-1, 128, 12, 7]         147,456\n",
            "      BatchNorm2d-23           [-1, 128, 12, 7]             256\n",
            "           Conv2d-24           [-1, 128, 12, 7]           8,192\n",
            "      BatchNorm2d-25           [-1, 128, 12, 7]             256\n",
            "             ReLU-26           [-1, 128, 12, 7]               0\n",
            "    ResidualBlock-27           [-1, 128, 12, 7]               0\n",
            "           Conv2d-28           [-1, 128, 12, 7]         147,456\n",
            "      BatchNorm2d-29           [-1, 128, 12, 7]             256\n",
            "             ReLU-30           [-1, 128, 12, 7]               0\n",
            "           Conv2d-31           [-1, 128, 12, 7]         147,456\n",
            "      BatchNorm2d-32           [-1, 128, 12, 7]             256\n",
            "             ReLU-33           [-1, 128, 12, 7]               0\n",
            "    ResidualBlock-34           [-1, 128, 12, 7]               0\n",
            "           Conv2d-35            [-1, 256, 6, 4]         294,912\n",
            "      BatchNorm2d-36            [-1, 256, 6, 4]             512\n",
            "             ReLU-37            [-1, 256, 6, 4]               0\n",
            "           Conv2d-38            [-1, 256, 6, 4]         589,824\n",
            "      BatchNorm2d-39            [-1, 256, 6, 4]             512\n",
            "           Conv2d-40            [-1, 256, 6, 4]          32,768\n",
            "      BatchNorm2d-41            [-1, 256, 6, 4]             512\n",
            "             ReLU-42            [-1, 256, 6, 4]               0\n",
            "    ResidualBlock-43            [-1, 256, 6, 4]               0\n",
            "           Conv2d-44            [-1, 256, 6, 4]         589,824\n",
            "      BatchNorm2d-45            [-1, 256, 6, 4]             512\n",
            "             ReLU-46            [-1, 256, 6, 4]               0\n",
            "           Conv2d-47            [-1, 256, 6, 4]         589,824\n",
            "      BatchNorm2d-48            [-1, 256, 6, 4]             512\n",
            "             ReLU-49            [-1, 256, 6, 4]               0\n",
            "    ResidualBlock-50            [-1, 256, 6, 4]               0\n",
            "           Conv2d-51            [-1, 512, 3, 2]       1,179,648\n",
            "      BatchNorm2d-52            [-1, 512, 3, 2]           1,024\n",
            "             ReLU-53            [-1, 512, 3, 2]               0\n",
            "           Conv2d-54            [-1, 512, 3, 2]       2,359,296\n",
            "      BatchNorm2d-55            [-1, 512, 3, 2]           1,024\n",
            "           Conv2d-56            [-1, 512, 3, 2]         131,072\n",
            "      BatchNorm2d-57            [-1, 512, 3, 2]           1,024\n",
            "             ReLU-58            [-1, 512, 3, 2]               0\n",
            "    ResidualBlock-59            [-1, 512, 3, 2]               0\n",
            "           Conv2d-60            [-1, 512, 3, 2]       2,359,296\n",
            "      BatchNorm2d-61            [-1, 512, 3, 2]           1,024\n",
            "             ReLU-62            [-1, 512, 3, 2]               0\n",
            "           Conv2d-63            [-1, 512, 3, 2]       2,359,296\n",
            "      BatchNorm2d-64            [-1, 512, 3, 2]           1,024\n",
            "             ReLU-65            [-1, 512, 3, 2]               0\n",
            "    ResidualBlock-66            [-1, 512, 3, 2]               0\n",
            "AdaptiveAvgPool2d-67            [-1, 512, 1, 1]               0\n",
            "           Linear-68                    [-1, 2]           1,026\n",
            "================================================================\n",
            "Total params: 11,171,266\n",
            "Trainable params: 11,171,266\n",
            "Non-trainable params: 0\n",
            "----------------------------------------------------------------\n",
            "Input size (MB): 0.02\n",
            "Forward/backward pass size (MB): 6.38\n",
            "Params size (MB): 42.61\n",
            "Estimated Total Size (MB): 49.02\n",
            "----------------------------------------------------------------\n"
          ]
        }
      ],
      "source": [
        "from torchsummary import summary\n",
        "\n",
        "summary(model, input_size=(1, 91, 52))  # Assuming your input tensor shape is (1, 91, 52)\n"
      ]
    },
    {
      "cell_type": "code",
      "execution_count": null,
      "metadata": {
        "colab": {
          "base_uri": "https://localhost:8080/"
        },
        "id": "jrsO1gbacAka",
        "outputId": "78d9f7c6-c150-445c-9bfb-4f2a98ce7a43"
      },
      "outputs": [
        {
          "output_type": "stream",
          "name": "stderr",
          "text": [
            "WARNING:fvcore.nn.jit_analysis:Unsupported operator aten::max_pool2d encountered 1 time(s)\n",
            "WARNING:fvcore.nn.jit_analysis:Unsupported operator aten::add_ encountered 8 time(s)\n"
          ]
        },
        {
          "output_type": "stream",
          "name": "stdout",
          "text": [
            "FLOPs: 193053440\n"
          ]
        }
      ],
      "source": [
        "from fvcore.nn import FlopCountAnalysis\n",
        "\n",
        "device = torch.device(\"cuda\" if torch.cuda.is_available() else \"cpu\")\n",
        "model.to(device)  # Move the model to the correct device\n",
        "input_tensor = torch.randn(1, 1, 91, 52).to(device)  # Input tensor with correct shape\n",
        "\n",
        "# Calculate FLOPs\n",
        "flops = FlopCountAnalysis(model, input_tensor)\n",
        "print(f\"FLOPs: {flops.total()}\")\n"
      ]
    },
    {
      "cell_type": "code",
      "execution_count": null,
      "metadata": {
        "colab": {
          "base_uri": "https://localhost:8080/",
          "height": 565
        },
        "id": "aCWIFVTVEh8O",
        "outputId": "7b80fc61-d172-4502-a664-eac86af0332b"
      },
      "outputs": [
        {
          "output_type": "display_data",
          "data": {
            "text/plain": [
              "<Figure size 1000x600 with 1 Axes>"
            ],
            "image/png": "[encoded data removed]"
          },
          "metadata": {}
        }
      ],
      "source": [
        "import matplotlib.pyplot as plt\n",
        "from scipy.signal import savgol_filter  # For smoothing\n",
        "\n",
        "# Apply smoothing\n",
        "smooth_train_losses = savgol_filter(train_losses, window_length=11, polyorder=3)\n",
        "\n",
        "# Plotting the smoothed training loss curve\n",
        "plt.figure(figsize=(10, 6))\n",
        "plt.plot(range(1, num_epochs + 1), smooth_train_losses, label=\"Train Loss\", color='darkblue', linewidth=2)\n",
        "plt.xlabel(\"Epochs\")\n",
        "plt.ylabel(\"Loss\")\n",
        "plt.title(\"Smoothed Training Loss Curve\", fontsize=14)\n",
        "plt.legend()\n",
        "plt.show()\n"
      ]
    },
    {
      "cell_type": "code",
      "execution_count": null,
      "metadata": {
        "colab": {
          "base_uri": "https://localhost:8080/",
          "height": 816
        },
        "id": "WTWyqsDlB3wG",
        "outputId": "e4d6d028-2da7-4150-d177-620bee9a62b6"
      },
      "outputs": [
        {
          "output_type": "stream",
          "name": "stdout",
          "text": [
            "Accuracy: 0.9024390243902439\n",
            "Confusion Matrix:\n",
            " [[79  8]\n",
            " [ 8 69]]\n",
            "Classification Report:\n",
            "               precision    recall  f1-score   support\n",
            "\n",
            "           0     0.9080    0.9080    0.9080        87\n",
            "           1     0.8961    0.8961    0.8961        77\n",
            "\n",
            "    accuracy                         0.9024       164\n",
            "   macro avg     0.9021    0.9021    0.9021       164\n",
            "weighted avg     0.9024    0.9024    0.9024       164\n",
            "\n"
          ]
        },
        {
          "output_type": "display_data",
          "data": {
            "text/plain": [
              "<Figure size 800x600 with 2 Axes>"
            ],
            "image/png": "[encoded data removed]"
          },
          "metadata": {}
        }
      ],
      "source": [
        "import seaborn as sns\n",
        "import matplotlib.pyplot as plt\n",
        "from sklearn.metrics import classification_report, confusion_matrix, accuracy_score\n",
        "\n",
        "all_preds, all_labels = [], []\n",
        "for inputs, labels in DataLoader(MFCCDataset(file_paths), batch_size=16, shuffle=False):\n",
        "    inputs = inputs.to(device)\n",
        "    with torch.no_grad():\n",
        "        outputs = model(inputs)\n",
        "        _, preds = torch.max(outputs, 1)\n",
        "        all_preds.extend(preds.cpu().numpy())\n",
        "        all_labels.extend(labels.numpy())\n",
        "\n",
        "# Evaluation metrics\n",
        "accuracy = accuracy_score(all_labels, all_preds)\n",
        "conf_matrix = confusion_matrix(all_labels, all_preds)\n",
        "class_report = classification_report(all_labels, all_preds, digits=4)\n",
        "\n",
        "print(\"Accuracy:\", accuracy)\n",
        "print(\"Confusion Matrix:\\n\", conf_matrix)\n",
        "print(\"Classification Report:\\n\", class_report)\n",
        "\n",
        "# Visualize the confusion matrix with seaborn heatmap\n",
        "plt.figure(figsize=(8, 6))\n",
        "sns.heatmap(conf_matrix, annot=True, fmt='d', cmap='Blues', xticklabels=['Absent', 'Present'], yticklabels=['Absent', 'Present'])\n",
        "plt.xlabel('Predicted')\n",
        "plt.ylabel('True')\n",
        "plt.title('Confusion Matrix')\n",
        "plt.show()\n"
      ]
    }
  ],
  "metadata": {
    "accelerator": "GPU",
    "colab": {
      "gpuType": "T4",
      "provenance": []
    },
    "kernelspec": {
      "display_name": "Python 3",
      "name": "python3"
    },
    "language_info": {
      "name": "python"
    }
  },
  "nbformat": 4,
  "nbformat_minor": 0
}